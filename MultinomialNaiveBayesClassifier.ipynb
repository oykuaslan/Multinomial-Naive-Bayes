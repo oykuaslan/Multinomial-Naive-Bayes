{
 "cells": [
  {
   "cell_type": "code",
   "execution_count": 38,
   "metadata": {},
   "outputs": [],
   "source": [
    "import pandas as pd\n",
    "import numpy as np\n",
    "import matplotlib.pyplot as plt"
   ]
  },
  {
   "cell_type": "code",
   "execution_count": 44,
   "metadata": {},
   "outputs": [],
   "source": [
    "Xtrain=pd.read_csv(\"train-features.txt\",sep=\" \", header=None)\n",
    "Ytrain=pd.read_csv(\"train-labels.txt\",sep=\" \", header=None)\n",
    "Xtest=pd.read_csv(\"test-features.txt\",sep=\" \", header=None)\n",
    "Ytest=pd.read_csv(\"test-labels.txt\",sep=\" \", header=None)\n",
    "\n"
   ]
  },
  {
   "cell_type": "code",
   "execution_count": 45,
   "metadata": {},
   "outputs": [
    {
     "name": "stdout",
     "output_type": "stream",
     "text": [
      "(700, 2500)\n",
      "(700, 1)\n",
      "(260, 2500)\n",
      "(260, 1)\n"
     ]
    }
   ],
   "source": [
    "print(Xtrain.shape)\n",
    "print(Ytrain.shape)\n",
    "print(Xtest.shape)\n",
    "print(Ytest.shape)"
   ]
  },
  {
   "cell_type": "code",
   "execution_count": 46,
   "metadata": {},
   "outputs": [
    {
     "name": "stdout",
     "output_type": "stream",
     "text": [
      "1    350\n",
      "0    350\n",
      "Name: 0, dtype: int64\n"
     ]
    }
   ],
   "source": [
    "print(Ytrain[0].value_counts())"
   ]
  },
  {
   "cell_type": "code",
   "execution_count": 47,
   "metadata": {},
   "outputs": [
    {
     "name": "stdout",
     "output_type": "stream",
     "text": [
      "0.5\n"
     ]
    }
   ],
   "source": [
    "#probability of Spam e-mail = #of spam e-mails/# of e-mails\n",
    "probOfSpam=Ytrain[0].value_counts()[0]/700\n",
    "print(probOfSpam)"
   ]
  },
  {
   "cell_type": "code",
   "execution_count": 48,
   "metadata": {},
   "outputs": [
    {
     "name": "stdout",
     "output_type": "stream",
     "text": [
      "0       20\n",
      "1       20\n",
      "2      135\n",
      "3       61\n",
      "4       36\n",
      "      ... \n",
      "695     44\n",
      "696    307\n",
      "697     82\n",
      "698     82\n",
      "699    957\n",
      "Length: 700, dtype: int64\n",
      "91566\n",
      "0       20\n",
      "1       20\n",
      "2      135\n",
      "3       61\n",
      "4       36\n",
      "      ... \n",
      "345    380\n",
      "346    150\n",
      "347    237\n",
      "348     96\n",
      "349    169\n",
      "Length: 350, dtype: int64\n",
      "61752\n"
     ]
    }
   ],
   "source": [
    "#Number of words in each e-mail\n",
    "numOfWordsInMails=np.sum(Xtrain,axis=1)\n",
    "print(numOfWordsInMails)\n",
    "\n",
    "#Total number of words in spam e-mails\n",
    "spamMailIndex=np.where(Ytrain==1)[0]\n",
    "spamMailsWCount=numOfWordsInMails[spamMailIndex[0]:(spamMailIndex[-1]+1)].sum()\n",
    "print(spamMailsWCount)\n",
    "\n",
    "#Total number of words in non-spam e-mails\n",
    "nonspamMailIndex=np.where(Ytrain==0)[0]\n",
    "nonspamMailsWCount=numOfWordsInMails[nonspamMailIndex[0]:(nonspamMailIndex[-1]+1)].sum()\n",
    "print(numOfWordsInMails[nonspamMailIndex[0]:(nonspamMailIndex[-1]+1)])\n",
    "print(nonspamMailsWCount)\n",
    "\n"
   ]
  },
  {
   "cell_type": "code",
   "execution_count": 49,
   "metadata": {},
   "outputs": [
    {
     "name": "stdout",
     "output_type": "stream",
     "text": [
      "0       0.015071\n",
      "1       0.010419\n",
      "2       0.012658\n",
      "3       0.000175\n",
      "4       0.011500\n",
      "          ...   \n",
      "2495    0.000066\n",
      "2496    0.000033\n",
      "2497    0.000044\n",
      "2498    0.000000\n",
      "2499    0.000109\n",
      "Length: 2500, dtype: float64\n",
      "0       0.005198\n",
      "1       0.004081\n",
      "2       0.001976\n",
      "3       0.018299\n",
      "4       0.000939\n",
      "          ...   \n",
      "2495    0.000065\n",
      "2496    0.000097\n",
      "2497    0.000113\n",
      "2498    0.000000\n",
      "2499    0.000000\n",
      "Length: 2500, dtype: float64\n"
     ]
    }
   ],
   "source": [
    "#probability of the words in spam emails\n",
    "probWordSpam=(Xtrain.iloc[spamMailIndex[0]:spamMailIndex[-1]+1,:].sum()).div(spamMailsWCount)\n",
    "print(probWordSpam)\n",
    "\n",
    "#probability of the words in nonspam emails\n",
    "probWordNonSpam=(Xtrain.iloc[nonspamMailIndex[0]:nonspamMailIndex[-1]+1,:].sum()).div(nonspamMailsWCount)\n",
    "print(probWordNonSpam)"
   ]
  },
  {
   "cell_type": "code",
   "execution_count": 50,
   "metadata": {},
   "outputs": [
    {
     "name": "stdout",
     "output_type": "stream",
     "text": [
      "0     NaN\n",
      "1     NaN\n",
      "2     NaN\n",
      "3     NaN\n",
      "4     NaN\n",
      "       ..\n",
      "255   NaN\n",
      "256   NaN\n",
      "257   NaN\n",
      "258   NaN\n",
      "259   NaN\n",
      "Length: 260, dtype: float64\n",
      "0     NaN\n",
      "1     NaN\n",
      "2     NaN\n",
      "3     NaN\n",
      "4     NaN\n",
      "       ..\n",
      "255   NaN\n",
      "256   NaN\n",
      "257   NaN\n",
      "258   NaN\n",
      "259   NaN\n",
      "Length: 260, dtype: float64\n"
     ]
    }
   ],
   "source": [
    "likelihoodSpam=np.matmul(Xtest,np.log(probWordSpam))+np.log(probOfSpam)\n",
    "print(likelihoodSpam)\n",
    "\n",
    "likelihoodNonSpam=np.matmul(Xtest,np.log(probWordNonSpam))+np.log(1-probOfSpam)\n",
    "print(likelihoodSpam)"
   ]
  },
  {
   "cell_type": "code",
   "execution_count": 51,
   "metadata": {},
   "outputs": [
    {
     "name": "stdout",
     "output_type": "stream",
     "text": [
      "[0. 0. 0. 0. 0. 0. 0. 0. 0. 0. 0. 0. 0. 0. 0. 0. 0. 0. 0. 0. 0. 0. 0. 0.\n",
      " 0. 0. 0. 0. 0. 0. 0. 0. 0. 0. 0. 0. 0. 0. 0. 0. 0. 0. 0. 0. 0. 0. 0. 0.\n",
      " 0. 0. 0. 0. 0. 0. 0. 0. 0. 0. 0. 0. 0. 0. 0. 0. 0. 0. 0. 0. 0. 0. 0. 0.\n",
      " 0. 0. 0. 0. 0. 0. 0. 0. 0. 0. 0. 0. 0. 0. 0. 0. 0. 0. 0. 0. 0. 0. 0. 0.\n",
      " 0. 0. 0. 0. 0. 0. 0. 0. 0. 0. 0. 0. 0. 0. 0. 0. 0. 0. 0. 0. 0. 0. 0. 0.\n",
      " 0. 0. 0. 0. 0. 0. 0. 0. 0. 0. 0. 0. 0. 0. 0. 0. 0. 0. 0. 0. 0. 0. 0. 0.\n",
      " 0. 0. 0. 0. 0. 0. 0. 0. 0. 0. 0. 0. 0. 0. 0. 0. 0. 0. 0. 0. 0. 0. 0. 0.\n",
      " 0. 0. 0. 0. 0. 0. 0. 0. 0. 0. 0. 0. 0. 0. 0. 0. 0. 0. 0. 0. 0. 0. 0. 0.\n",
      " 0. 0. 0. 0. 0. 0. 0. 0. 0. 0. 0. 0. 0. 0. 0. 0. 0. 0. 0. 0. 0. 0. 0. 0.\n",
      " 0. 0. 0. 0. 0. 0. 0. 0. 0. 0. 0. 0. 0. 0. 0. 0. 0. 0. 0. 0. 0. 0. 0. 0.\n",
      " 0. 0. 0. 0. 0. 0. 0. 0. 0. 0. 0. 0. 0. 0. 0. 0. 0. 0. 0. 0.]\n",
      "Accuracy: 0.5\n"
     ]
    }
   ],
   "source": [
    "prediction=np.zeros(len(Ytest))\n",
    "for i in range(len(prediction)):\n",
    "    if(likelihoodSpam[i] > likelihoodNonSpam[i]):\n",
    "        prediction[i]=1\n",
    "print(prediction)\n",
    "\n",
    "from sklearn.metrics import accuracy_score\n",
    "accuracy=accuracy_score(Ytest, prediction)\n",
    "print(\"Accuracy:\",accuracy)"
   ]
  },
  {
   "cell_type": "code",
   "execution_count": 52,
   "metadata": {},
   "outputs": [
    {
     "name": "stdout",
     "output_type": "stream",
     "text": [
      "0       0.014681\n",
      "1       0.010152\n",
      "2       0.012332\n",
      "3       0.000181\n",
      "4       0.011205\n",
      "          ...   \n",
      "2495    0.000074\n",
      "2496    0.000043\n",
      "2497    0.000053\n",
      "2498    0.000011\n",
      "2499    0.000117\n",
      "Length: 2500, dtype: float64\n",
      "0       0.005012\n",
      "1       0.003938\n",
      "2       0.001914\n",
      "3       0.017603\n",
      "4       0.000918\n",
      "          ...   \n",
      "2495    0.000078\n",
      "2496    0.000109\n",
      "2497    0.000125\n",
      "2498    0.000016\n",
      "2499    0.000016\n",
      "Length: 2500, dtype: float64\n"
     ]
    }
   ],
   "source": [
    "#probability of the words in spam emails\n",
    "probWordSpamMAP=(Xtrain.iloc[spamMailIndex[0]:spamMailIndex[-1]+1,:].sum()+1).div((spamMailsWCount+2500))\n",
    "print(probWordSpamMAP)\n",
    "\n",
    "#probability of the words in nonspam emails\n",
    "probWordNonSpamMAP=(Xtrain.iloc[nonspamMailIndex[0]:nonspamMailIndex[-1]+1,:].sum()+1).div((nonspamMailsWCount+2500))\n",
    "print(probWordNonSpamMAP)"
   ]
  },
  {
   "cell_type": "code",
   "execution_count": 53,
   "metadata": {},
   "outputs": [
    {
     "name": "stdout",
     "output_type": "stream",
     "text": [
      "0      -542.224134\n",
      "1      -351.542304\n",
      "2      -916.546264\n",
      "3      -794.169058\n",
      "4      -346.010151\n",
      "          ...     \n",
      "255    -402.355519\n",
      "256   -2064.952752\n",
      "257    -468.890109\n",
      "258    -442.814782\n",
      "259    -407.142192\n",
      "Length: 260, dtype: float64\n",
      "0      -463.571783\n",
      "1      -310.256421\n",
      "2      -681.705604\n",
      "3      -720.315298\n",
      "4      -312.076719\n",
      "          ...     \n",
      "255    -482.832452\n",
      "256   -2455.867714\n",
      "257    -555.866973\n",
      "258    -507.958893\n",
      "259    -451.269510\n",
      "Length: 260, dtype: float64\n"
     ]
    }
   ],
   "source": [
    "logSpamMAP=np.matmul(Xtest,np.log(probWordSpamMAP))+np.log(probOfSpam)\n",
    "print(logSpamMAP)\n",
    "\n",
    "logNonSpamMAP=np.matmul(Xtest,np.log(probWordNonSpamMAP))+np.log(1-probOfSpam)\n",
    "print(logNonSpamMAP)\n"
   ]
  },
  {
   "cell_type": "code",
   "execution_count": 55,
   "metadata": {},
   "outputs": [
    {
     "name": "stdout",
     "output_type": "stream",
     "text": [
      "[0. 0. 0. 0. 0. 0. 0. 0. 0. 0. 0. 0. 0. 0. 0. 0. 0. 0. 0. 0. 0. 0. 0. 0.\n",
      " 0. 0. 0. 0. 0. 0. 0. 0. 0. 0. 0. 0. 0. 0. 0. 0. 1. 0. 0. 0. 0. 1. 0. 0.\n",
      " 0. 0. 0. 0. 0. 0. 1. 0. 0. 0. 0. 0. 0. 0. 0. 0. 0. 0. 0. 0. 0. 0. 0. 0.\n",
      " 0. 0. 0. 0. 0. 0. 0. 0. 0. 0. 0. 0. 0. 0. 0. 0. 0. 0. 0. 0. 0. 0. 0. 0.\n",
      " 0. 0. 0. 0. 0. 0. 0. 0. 0. 0. 0. 0. 0. 0. 0. 0. 0. 0. 0. 0. 0. 0. 0. 0.\n",
      " 0. 0. 0. 0. 0. 0. 0. 0. 0. 0. 1. 1. 1. 1. 1. 0. 1. 1. 1. 1. 1. 1. 1. 1.\n",
      " 1. 1. 1. 1. 1. 1. 1. 1. 1. 1. 1. 1. 1. 1. 1. 1. 1. 1. 1. 1. 1. 1. 1. 1.\n",
      " 1. 1. 1. 1. 1. 1. 1. 1. 1. 1. 1. 1. 1. 1. 1. 1. 1. 1. 1. 1. 1. 1. 1. 1.\n",
      " 1. 1. 1. 1. 1. 1. 1. 1. 1. 1. 1. 1. 1. 1. 1. 1. 1. 1. 1. 1. 1. 1. 1. 0.\n",
      " 1. 1. 1. 1. 1. 1. 1. 1. 1. 1. 1. 1. 1. 1. 1. 1. 1. 1. 1. 1. 1. 1. 1. 1.\n",
      " 1. 1. 1. 1. 1. 1. 1. 0. 0. 1. 1. 1. 1. 1. 1. 1. 1. 1. 1. 1.]\n",
      "Accuracy: 0.9730769230769231\n"
     ]
    }
   ],
   "source": [
    "predictionMAP=np.zeros(len(Ytest))\n",
    "for i in range(len(predictionMAP)):\n",
    "    if(logSpamMAP[i] > logNonSpamMAP[i]):\n",
    "        predictionMAP[i]=1\n",
    "print(predictionMAP)\n",
    "\n",
    "from sklearn.metrics import accuracy_score\n",
    "accuracy=accuracy_score(Ytest, predictionMAP)\n",
    "print(\"Accuracy:\",accuracy)"
   ]
  },
  {
   "cell_type": "code",
   "execution_count": 19,
   "metadata": {},
   "outputs": [
    {
     "name": "stdout",
     "output_type": "stream",
     "text": [
      "0.9730769230769231\n"
     ]
    },
    {
     "name": "stderr",
     "output_type": "stream",
     "text": [
      "/opt/anaconda3/lib/python3.7/site-packages/sklearn/utils/validation.py:724: DataConversionWarning: A column-vector y was passed when a 1d array was expected. Please change the shape of y to (n_samples, ), for example using ravel().\n",
      "  y = column_or_1d(y, warn=True)\n"
     ]
    }
   ],
   "source": [
    "#To test the results from scratch implementation\n",
    "from sklearn.naive_bayes import MultinomialNB\n",
    "clf=MultinomialNB()\n",
    "clf.fit(Xtrain, Ytrain)\n",
    "print (clf.score(Xtest, Ytest))\n",
    "predicted_result=clf.predict(Xtest)\n",
    "from sklearn.metrics import classification_report"
   ]
  },
  {
   "cell_type": "code",
   "execution_count": null,
   "metadata": {},
   "outputs": [],
   "source": []
  }
 ],
 "metadata": {
  "kernelspec": {
   "display_name": "Python 3",
   "language": "python",
   "name": "python3"
  },
  "language_info": {
   "codemirror_mode": {
    "name": "ipython",
    "version": 3
   },
   "file_extension": ".py",
   "mimetype": "text/x-python",
   "name": "python",
   "nbconvert_exporter": "python",
   "pygments_lexer": "ipython3",
   "version": "3.7.4"
  }
 },
 "nbformat": 4,
 "nbformat_minor": 4
}
